{
 "cells": [
  {
   "cell_type": "markdown",
   "id": "cbf6206a",
   "metadata": {},
   "source": [
    "# MSA 2025 Phase 2 - Part 2: Minimum Temperature Prediction from Weather Data"
   ]
  },
  {
   "cell_type": "code",
   "execution_count": 20,
   "id": "77fbd132",
   "metadata": {},
   "outputs": [],
   "source": [
    "import pandas as pd\n",
    "import numpy as np"
   ]
  },
  {
   "cell_type": "markdown",
   "id": "3b46716d",
   "metadata": {},
   "source": [
    "## 1. Load and check the dataset"
   ]
  },
  {
   "cell_type": "code",
   "execution_count": 28,
   "id": "11a8294f",
   "metadata": {},
   "outputs": [
    {
     "name": "stderr",
     "output_type": "stream",
     "text": [
      "C:\\Users\\Wade Yan\\AppData\\Local\\Temp\\ipykernel_40924\\3785894266.py:1: DtypeWarning: Columns (7,8,18,25) have mixed types. Specify dtype option on import or set low_memory=False.\n",
      "  df = pd.read_csv(\"Summary of Weather.csv\")\n"
     ]
    },
    {
     "data": {
      "text/plain": [
       "(119040, 31)"
      ]
     },
     "execution_count": 28,
     "metadata": {},
     "output_type": "execute_result"
    }
   ],
   "source": [
    "df = pd.read_csv(\"Summary of Weather.csv\")\n",
    "df.shape\n"
   ]
  },
  {
   "cell_type": "markdown",
   "id": "4cb7204a",
   "metadata": {},
   "source": [
    "Our dataset had 31 feature and 119040 rows."
   ]
  },
  {
   "cell_type": "code",
   "execution_count": 29,
   "id": "a65162a2",
   "metadata": {},
   "outputs": [
    {
     "data": {
      "text/html": [
       "<div>\n",
       "<style scoped>\n",
       "    .dataframe tbody tr th:only-of-type {\n",
       "        vertical-align: middle;\n",
       "    }\n",
       "\n",
       "    .dataframe tbody tr th {\n",
       "        vertical-align: top;\n",
       "    }\n",
       "\n",
       "    .dataframe thead th {\n",
       "        text-align: right;\n",
       "    }\n",
       "</style>\n",
       "<table border=\"1\" class=\"dataframe\">\n",
       "  <thead>\n",
       "    <tr style=\"text-align: right;\">\n",
       "      <th></th>\n",
       "      <th>STA</th>\n",
       "      <th>Date</th>\n",
       "      <th>Precip</th>\n",
       "      <th>WindGustSpd</th>\n",
       "      <th>MaxTemp</th>\n",
       "      <th>MinTemp</th>\n",
       "      <th>MeanTemp</th>\n",
       "      <th>Snowfall</th>\n",
       "      <th>PoorWeather</th>\n",
       "      <th>YR</th>\n",
       "      <th>...</th>\n",
       "      <th>FB</th>\n",
       "      <th>FTI</th>\n",
       "      <th>ITH</th>\n",
       "      <th>PGT</th>\n",
       "      <th>TSHDSBRSGF</th>\n",
       "      <th>SD3</th>\n",
       "      <th>RHX</th>\n",
       "      <th>RHN</th>\n",
       "      <th>RVG</th>\n",
       "      <th>WTE</th>\n",
       "    </tr>\n",
       "  </thead>\n",
       "  <tbody>\n",
       "    <tr>\n",
       "      <th>0</th>\n",
       "      <td>10001</td>\n",
       "      <td>1942-7-1</td>\n",
       "      <td>1.016</td>\n",
       "      <td>NaN</td>\n",
       "      <td>25.555556</td>\n",
       "      <td>22.222222</td>\n",
       "      <td>23.888889</td>\n",
       "      <td>0.0</td>\n",
       "      <td>NaN</td>\n",
       "      <td>42</td>\n",
       "      <td>...</td>\n",
       "      <td>NaN</td>\n",
       "      <td>NaN</td>\n",
       "      <td>NaN</td>\n",
       "      <td>NaN</td>\n",
       "      <td>NaN</td>\n",
       "      <td>NaN</td>\n",
       "      <td>NaN</td>\n",
       "      <td>NaN</td>\n",
       "      <td>NaN</td>\n",
       "      <td>NaN</td>\n",
       "    </tr>\n",
       "    <tr>\n",
       "      <th>1</th>\n",
       "      <td>10001</td>\n",
       "      <td>1942-7-2</td>\n",
       "      <td>0</td>\n",
       "      <td>NaN</td>\n",
       "      <td>28.888889</td>\n",
       "      <td>21.666667</td>\n",
       "      <td>25.555556</td>\n",
       "      <td>0.0</td>\n",
       "      <td>NaN</td>\n",
       "      <td>42</td>\n",
       "      <td>...</td>\n",
       "      <td>NaN</td>\n",
       "      <td>NaN</td>\n",
       "      <td>NaN</td>\n",
       "      <td>NaN</td>\n",
       "      <td>NaN</td>\n",
       "      <td>NaN</td>\n",
       "      <td>NaN</td>\n",
       "      <td>NaN</td>\n",
       "      <td>NaN</td>\n",
       "      <td>NaN</td>\n",
       "    </tr>\n",
       "    <tr>\n",
       "      <th>2</th>\n",
       "      <td>10001</td>\n",
       "      <td>1942-7-3</td>\n",
       "      <td>2.54</td>\n",
       "      <td>NaN</td>\n",
       "      <td>26.111111</td>\n",
       "      <td>22.222222</td>\n",
       "      <td>24.444444</td>\n",
       "      <td>0.0</td>\n",
       "      <td>NaN</td>\n",
       "      <td>42</td>\n",
       "      <td>...</td>\n",
       "      <td>NaN</td>\n",
       "      <td>NaN</td>\n",
       "      <td>NaN</td>\n",
       "      <td>NaN</td>\n",
       "      <td>NaN</td>\n",
       "      <td>NaN</td>\n",
       "      <td>NaN</td>\n",
       "      <td>NaN</td>\n",
       "      <td>NaN</td>\n",
       "      <td>NaN</td>\n",
       "    </tr>\n",
       "    <tr>\n",
       "      <th>3</th>\n",
       "      <td>10001</td>\n",
       "      <td>1942-7-4</td>\n",
       "      <td>2.54</td>\n",
       "      <td>NaN</td>\n",
       "      <td>26.666667</td>\n",
       "      <td>22.222222</td>\n",
       "      <td>24.444444</td>\n",
       "      <td>0.0</td>\n",
       "      <td>NaN</td>\n",
       "      <td>42</td>\n",
       "      <td>...</td>\n",
       "      <td>NaN</td>\n",
       "      <td>NaN</td>\n",
       "      <td>NaN</td>\n",
       "      <td>NaN</td>\n",
       "      <td>NaN</td>\n",
       "      <td>NaN</td>\n",
       "      <td>NaN</td>\n",
       "      <td>NaN</td>\n",
       "      <td>NaN</td>\n",
       "      <td>NaN</td>\n",
       "    </tr>\n",
       "    <tr>\n",
       "      <th>4</th>\n",
       "      <td>10001</td>\n",
       "      <td>1942-7-5</td>\n",
       "      <td>0</td>\n",
       "      <td>NaN</td>\n",
       "      <td>26.666667</td>\n",
       "      <td>21.666667</td>\n",
       "      <td>24.444444</td>\n",
       "      <td>0.0</td>\n",
       "      <td>NaN</td>\n",
       "      <td>42</td>\n",
       "      <td>...</td>\n",
       "      <td>NaN</td>\n",
       "      <td>NaN</td>\n",
       "      <td>NaN</td>\n",
       "      <td>NaN</td>\n",
       "      <td>NaN</td>\n",
       "      <td>NaN</td>\n",
       "      <td>NaN</td>\n",
       "      <td>NaN</td>\n",
       "      <td>NaN</td>\n",
       "      <td>NaN</td>\n",
       "    </tr>\n",
       "  </tbody>\n",
       "</table>\n",
       "<p>5 rows × 31 columns</p>\n",
       "</div>"
      ],
      "text/plain": [
       "     STA      Date Precip  WindGustSpd    MaxTemp    MinTemp   MeanTemp  \\\n",
       "0  10001  1942-7-1  1.016          NaN  25.555556  22.222222  23.888889   \n",
       "1  10001  1942-7-2      0          NaN  28.888889  21.666667  25.555556   \n",
       "2  10001  1942-7-3   2.54          NaN  26.111111  22.222222  24.444444   \n",
       "3  10001  1942-7-4   2.54          NaN  26.666667  22.222222  24.444444   \n",
       "4  10001  1942-7-5      0          NaN  26.666667  21.666667  24.444444   \n",
       "\n",
       "  Snowfall PoorWeather  YR  ...  FB  FTI ITH  PGT  TSHDSBRSGF  SD3  RHX  RHN  \\\n",
       "0      0.0         NaN  42  ... NaN  NaN NaN  NaN         NaN  NaN  NaN  NaN   \n",
       "1      0.0         NaN  42  ... NaN  NaN NaN  NaN         NaN  NaN  NaN  NaN   \n",
       "2      0.0         NaN  42  ... NaN  NaN NaN  NaN         NaN  NaN  NaN  NaN   \n",
       "3      0.0         NaN  42  ... NaN  NaN NaN  NaN         NaN  NaN  NaN  NaN   \n",
       "4      0.0         NaN  42  ... NaN  NaN NaN  NaN         NaN  NaN  NaN  NaN   \n",
       "\n",
       "  RVG  WTE  \n",
       "0 NaN  NaN  \n",
       "1 NaN  NaN  \n",
       "2 NaN  NaN  \n",
       "3 NaN  NaN  \n",
       "4 NaN  NaN  \n",
       "\n",
       "[5 rows x 31 columns]"
      ]
     },
     "execution_count": 29,
     "metadata": {},
     "output_type": "execute_result"
    }
   ],
   "source": [
    "df.head(5)"
   ]
  },
  {
   "cell_type": "markdown",
   "id": "24632408",
   "metadata": {},
   "source": [
    "## 2. Clean the dataset, drop variables"
   ]
  },
  {
   "cell_type": "markdown",
   "id": "d7e63cef",
   "metadata": {},
   "source": [
    "### 2.1 deal with empty columns"
   ]
  },
  {
   "cell_type": "code",
   "execution_count": 30,
   "id": "a915f4ba",
   "metadata": {},
   "outputs": [
    {
     "data": {
      "text/plain": [
       "<Axes: >"
      ]
     },
     "execution_count": 30,
     "metadata": {},
     "output_type": "execute_result"
    },
    {
     "data": {
      "image/png": "[encoded data removed]",
      "text/plain": [
       "<Figure size 1000x500 with 2 Axes>"
      ]
     },
     "metadata": {},
     "output_type": "display_data"
    }
   ],
   "source": [
    "import missingno as msno\n",
    "\n",
    "# Plot a matrix chart, set chart and font size\n",
    "msno.matrix(df, figsize=(10,5), fontsize=11)"
   ]
  },
  {
   "cell_type": "markdown",
   "id": "beb19879",
   "metadata": {},
   "source": [
    "We can see there are bunches of columns are empty that needed to remove them."
   ]
  },
  {
   "cell_type": "code",
   "execution_count": 8,
   "id": "abf1aea0",
   "metadata": {},
   "outputs": [
    {
     "data": {
      "text/plain": [
       "22"
      ]
     },
     "execution_count": 8,
     "metadata": {},
     "output_type": "execute_result"
    }
   ],
   "source": [
    "# delete all empty columns\n",
    "df = df.dropna(axis=1, how='all')\n",
    "df.shape[1]"
   ]
  },
  {
   "cell_type": "code",
   "execution_count": 12,
   "id": "1bbca8ee",
   "metadata": {},
   "outputs": [
    {
     "data": {
      "text/html": [
       "<div>\n",
       "<style scoped>\n",
       "    .dataframe tbody tr th:only-of-type {\n",
       "        vertical-align: middle;\n",
       "    }\n",
       "\n",
       "    .dataframe tbody tr th {\n",
       "        vertical-align: top;\n",
       "    }\n",
       "\n",
       "    .dataframe thead th {\n",
       "        text-align: right;\n",
       "    }\n",
       "</style>\n",
       "<table border=\"1\" class=\"dataframe\">\n",
       "  <thead>\n",
       "    <tr style=\"text-align: right;\">\n",
       "      <th></th>\n",
       "      <th>STA</th>\n",
       "      <th>Date</th>\n",
       "      <th>Precip</th>\n",
       "      <th>WindGustSpd</th>\n",
       "      <th>MaxTemp</th>\n",
       "      <th>MinTemp</th>\n",
       "      <th>MeanTemp</th>\n",
       "      <th>Snowfall</th>\n",
       "      <th>PoorWeather</th>\n",
       "      <th>YR</th>\n",
       "      <th>...</th>\n",
       "      <th>PRCP</th>\n",
       "      <th>DR</th>\n",
       "      <th>SPD</th>\n",
       "      <th>MAX</th>\n",
       "      <th>MIN</th>\n",
       "      <th>MEA</th>\n",
       "      <th>SNF</th>\n",
       "      <th>SND</th>\n",
       "      <th>PGT</th>\n",
       "      <th>TSHDSBRSGF</th>\n",
       "    </tr>\n",
       "  </thead>\n",
       "  <tbody>\n",
       "    <tr>\n",
       "      <th>0</th>\n",
       "      <td>10001</td>\n",
       "      <td>1942-7-1</td>\n",
       "      <td>1.016</td>\n",
       "      <td>NaN</td>\n",
       "      <td>25.555556</td>\n",
       "      <td>22.222222</td>\n",
       "      <td>23.888889</td>\n",
       "      <td>0.0</td>\n",
       "      <td>NaN</td>\n",
       "      <td>42</td>\n",
       "      <td>...</td>\n",
       "      <td>0.04</td>\n",
       "      <td>NaN</td>\n",
       "      <td>NaN</td>\n",
       "      <td>78.0</td>\n",
       "      <td>72.0</td>\n",
       "      <td>75.0</td>\n",
       "      <td>0.0</td>\n",
       "      <td>NaN</td>\n",
       "      <td>NaN</td>\n",
       "      <td>NaN</td>\n",
       "    </tr>\n",
       "    <tr>\n",
       "      <th>1</th>\n",
       "      <td>10001</td>\n",
       "      <td>1942-7-2</td>\n",
       "      <td>0</td>\n",
       "      <td>NaN</td>\n",
       "      <td>28.888889</td>\n",
       "      <td>21.666667</td>\n",
       "      <td>25.555556</td>\n",
       "      <td>0.0</td>\n",
       "      <td>NaN</td>\n",
       "      <td>42</td>\n",
       "      <td>...</td>\n",
       "      <td>0</td>\n",
       "      <td>NaN</td>\n",
       "      <td>NaN</td>\n",
       "      <td>84.0</td>\n",
       "      <td>71.0</td>\n",
       "      <td>78.0</td>\n",
       "      <td>0.0</td>\n",
       "      <td>NaN</td>\n",
       "      <td>NaN</td>\n",
       "      <td>NaN</td>\n",
       "    </tr>\n",
       "    <tr>\n",
       "      <th>2</th>\n",
       "      <td>10001</td>\n",
       "      <td>1942-7-3</td>\n",
       "      <td>2.54</td>\n",
       "      <td>NaN</td>\n",
       "      <td>26.111111</td>\n",
       "      <td>22.222222</td>\n",
       "      <td>24.444444</td>\n",
       "      <td>0.0</td>\n",
       "      <td>NaN</td>\n",
       "      <td>42</td>\n",
       "      <td>...</td>\n",
       "      <td>0.1</td>\n",
       "      <td>NaN</td>\n",
       "      <td>NaN</td>\n",
       "      <td>79.0</td>\n",
       "      <td>72.0</td>\n",
       "      <td>76.0</td>\n",
       "      <td>0.0</td>\n",
       "      <td>NaN</td>\n",
       "      <td>NaN</td>\n",
       "      <td>NaN</td>\n",
       "    </tr>\n",
       "    <tr>\n",
       "      <th>3</th>\n",
       "      <td>10001</td>\n",
       "      <td>1942-7-4</td>\n",
       "      <td>2.54</td>\n",
       "      <td>NaN</td>\n",
       "      <td>26.666667</td>\n",
       "      <td>22.222222</td>\n",
       "      <td>24.444444</td>\n",
       "      <td>0.0</td>\n",
       "      <td>NaN</td>\n",
       "      <td>42</td>\n",
       "      <td>...</td>\n",
       "      <td>0.1</td>\n",
       "      <td>NaN</td>\n",
       "      <td>NaN</td>\n",
       "      <td>80.0</td>\n",
       "      <td>72.0</td>\n",
       "      <td>76.0</td>\n",
       "      <td>0.0</td>\n",
       "      <td>NaN</td>\n",
       "      <td>NaN</td>\n",
       "      <td>NaN</td>\n",
       "    </tr>\n",
       "    <tr>\n",
       "      <th>4</th>\n",
       "      <td>10001</td>\n",
       "      <td>1942-7-5</td>\n",
       "      <td>0</td>\n",
       "      <td>NaN</td>\n",
       "      <td>26.666667</td>\n",
       "      <td>21.666667</td>\n",
       "      <td>24.444444</td>\n",
       "      <td>0.0</td>\n",
       "      <td>NaN</td>\n",
       "      <td>42</td>\n",
       "      <td>...</td>\n",
       "      <td>0</td>\n",
       "      <td>NaN</td>\n",
       "      <td>NaN</td>\n",
       "      <td>80.0</td>\n",
       "      <td>71.0</td>\n",
       "      <td>76.0</td>\n",
       "      <td>0.0</td>\n",
       "      <td>NaN</td>\n",
       "      <td>NaN</td>\n",
       "      <td>NaN</td>\n",
       "    </tr>\n",
       "  </tbody>\n",
       "</table>\n",
       "<p>5 rows × 22 columns</p>\n",
       "</div>"
      ],
      "text/plain": [
       "     STA      Date Precip  WindGustSpd    MaxTemp    MinTemp   MeanTemp  \\\n",
       "0  10001  1942-7-1  1.016          NaN  25.555556  22.222222  23.888889   \n",
       "1  10001  1942-7-2      0          NaN  28.888889  21.666667  25.555556   \n",
       "2  10001  1942-7-3   2.54          NaN  26.111111  22.222222  24.444444   \n",
       "3  10001  1942-7-4   2.54          NaN  26.666667  22.222222  24.444444   \n",
       "4  10001  1942-7-5      0          NaN  26.666667  21.666667  24.444444   \n",
       "\n",
       "  Snowfall PoorWeather  YR  ...  PRCP  DR SPD   MAX   MIN   MEA  SNF  SND PGT  \\\n",
       "0      0.0         NaN  42  ...  0.04 NaN NaN  78.0  72.0  75.0  0.0  NaN NaN   \n",
       "1      0.0         NaN  42  ...     0 NaN NaN  84.0  71.0  78.0  0.0  NaN NaN   \n",
       "2      0.0         NaN  42  ...   0.1 NaN NaN  79.0  72.0  76.0  0.0  NaN NaN   \n",
       "3      0.0         NaN  42  ...   0.1 NaN NaN  80.0  72.0  76.0  0.0  NaN NaN   \n",
       "4      0.0         NaN  42  ...     0 NaN NaN  80.0  71.0  76.0  0.0  NaN NaN   \n",
       "\n",
       "   TSHDSBRSGF  \n",
       "0         NaN  \n",
       "1         NaN  \n",
       "2         NaN  \n",
       "3         NaN  \n",
       "4         NaN  \n",
       "\n",
       "[5 rows x 22 columns]"
      ]
     },
     "execution_count": 12,
     "metadata": {},
     "output_type": "execute_result"
    }
   ],
   "source": [
    "df.head(5)\n"
   ]
  },
  {
   "cell_type": "markdown",
   "id": "41cfb449",
   "metadata": {},
   "source": [
    "### clean columns"
   ]
  },
  {
   "cell_type": "markdown",
   "id": "426f3587",
   "metadata": {},
   "source": [
    "Most of the columns are seem to be in a correct data type at the first glance, but in fact that's not true. I checked the data type of each columns there are a few columns should have been numerical type but in a object type such as **Precip**, **Snowfall**."
   ]
  },
  {
   "cell_type": "code",
   "execution_count": 31,
   "id": "ed0baf94",
   "metadata": {},
   "outputs": [
    {
     "name": "stdout",
     "output_type": "stream",
     "text": [
      "STA              int64\n",
      "Date            object\n",
      "Precip          object\n",
      "WindGustSpd    float64\n",
      "MaxTemp        float64\n",
      "MinTemp        float64\n",
      "MeanTemp       float64\n",
      "Snowfall        object\n",
      "PoorWeather     object\n",
      "YR               int64\n",
      "MO               int64\n",
      "DA               int64\n",
      "PRCP            object\n",
      "DR             float64\n",
      "SPD            float64\n",
      "MAX            float64\n",
      "MIN            float64\n",
      "MEA            float64\n",
      "SNF             object\n",
      "SND            float64\n",
      "FT             float64\n",
      "FB             float64\n",
      "FTI            float64\n",
      "ITH            float64\n",
      "PGT            float64\n",
      "TSHDSBRSGF      object\n",
      "SD3            float64\n",
      "RHX            float64\n",
      "RHN            float64\n",
      "RVG            float64\n",
      "WTE            float64\n",
      "dtype: object\n"
     ]
    }
   ],
   "source": [
    "print(df.dtypes)\n"
   ]
  },
  {
   "cell_type": "code",
   "execution_count": 32,
   "id": "7743b773",
   "metadata": {},
   "outputs": [
    {
     "data": {
      "text/plain": [
       "array(['1.016', '0', '2.54', 'T', '3.556', '0.508', '0.254', '1.778',\n",
       "       '3.302', '0.762', '5.588', '5.08', '2.032', '25.654', '40.132',\n",
       "       '19.05', '23.876', '4.064', '12.192', '2.794', '33.274', '19.304',\n",
       "       '47.752', '6.35', '3.048', '8.382', '10.16', '27.178', '30.48',\n",
       "       '45.212', '10.668', '15.494', '57.658', '58.166', '11.43',\n",
       "       '31.242', '17.78', '26.924', '26.67', '6.604', '5.334', '4.826',\n",
       "       '7.62', '8.636', '7.874', '12.446', '90.932', '13.462', '11.938',\n",
       "       '5.842', '4.318', '6.096', '9.144', '4.572', '9.906', '9.652',\n",
       "       '1.524', '13.97', '17.272', '33.528', '1.27', '13.716', '8.128',\n",
       "       '22.352', '39.116', '36.068', '98.044', '3.81', '14.986', '78.232',\n",
       "       '146.304', '14.732', '21.844', '120.904', '42.164', '23.368',\n",
       "       '21.082', '44.958', '2.286', '50.038', '17.526', '51.054', '7.112',\n",
       "       '25.4', '7.366', '16.256', '46.736', '8.89', '24.638', '11.684',\n",
       "       '17.018', '144.78', '18.034', '50.8', '106.426', '36.576', '53.34',\n",
       "       '34.798', '12.954', '26.416', '85.598', '47.498', '12.7', '11.176',\n",
       "       '59.182', '33.782', '40.894', '28.194', '24.892', '14.478',\n",
       "       '71.628', '102.108', '31.496', '36.322', '37.846', '35.56',\n",
       "       '31.75', '49.022', '69.85', '36.83', '19.558', '127.508', '64.77',\n",
       "       '105.156', '16.002', '75.184', '143.51', '60.96', '68.58', '55.88',\n",
       "       '23.622', '126.238', '70.358', '6.858', '16.764', '24.13',\n",
       "       '52.832', '25.146', '74.676', '16.51', '65.024', '51.816',\n",
       "       '13.208', '30.226', '29.972', '215.9', '21.336', '76.962',\n",
       "       '29.464', '9.398', '15.748', '45.974', '41.148', '48.514', '33.02',\n",
       "       '10.414', '18.796', '14.224', '68.326', '80.264', '70.866',\n",
       "       '35.814', '22.86', '30.988', '20.828', '34.036', '20.066',\n",
       "       '27.432', '62.23', '37.338', '55.372', '73.66', '18.288',\n",
       "       '114.808', '56.388', '273.558', '27.686', '111.506', '101.346',\n",
       "       '120.142', '116.586', '66.294', '32.766', '55.118', '30.734',\n",
       "       '46.228', '68.072', '62.484', '72.644', '203.708', '15.24',\n",
       "       '61.214', '48.768', '10.922', '54.61', '81.788', '38.1', '37.592',\n",
       "       '18.542', '49.784', '32.258', '94.488', '67.818', '41.402',\n",
       "       '22.606', '43.434', '27.94', '61.468', '25.908', '54.102',\n",
       "       '52.578', '46.99', '177.8', '28.956', '119.38', '44.45', '85.344',\n",
       "       '95.758', '91.948', '38.354', '39.624', '80.01', '40.386',\n",
       "       '35.306', '88.646', '65.786', '136.398', '77.978', '116.84',\n",
       "       '75.438', '69.596', '42.672', '39.37', '20.574', '39.878',\n",
       "       '42.926', '38.608', '155.448', '140.716', '148.336', '19.812',\n",
       "       '60.706', '97.028', '57.912', '72.898', '65.532', '71.882',\n",
       "       '21.59', '22.098', '34.29', '35.052', '43.18', '50.546', '20.32',\n",
       "       '70.612', '67.31', '28.448', '32.004', '48.006', '76.2', '37.084',\n",
       "       '48.26', '43.942', '76.708', '52.07', '52.324', '120.396',\n",
       "       '80.518', '63.5', '125.984', '116.332', '46.482', '76.454',\n",
       "       '34.544', '42.418', '29.21', '81.28', '24.384', '58.674',\n",
       "       '108.204', '173.736', '49.53', '225.298', '206.248', '162.052',\n",
       "       '87.122', '88.138', '103.632', '82.804', '93.726', '28.702',\n",
       "       '99.06', '61.976', '51.308', '110.998', '93.98', '107.442',\n",
       "       '23.114', '92.456', '57.15', '84.074', '40.64', '62.738', '41.656',\n",
       "       '32.512', '50.292', '26.162', '53.848', '73.914', '64.516',\n",
       "       '38.862', '84.836', '103.886', '41.91', '56.896', '82.042',\n",
       "       '66.548', '60.198', '53.086', '54.356', '45.72', '29.718',\n",
       "       '43.688', '67.056', '70.104', '69.342', '86.868', '86.106',\n",
       "       '58.42', '74.168', '68.834', '97.79', '44.704', '63.754', '56.134',\n",
       "       '66.04', '85.852', '64.262', '85.09', '122.936', '44.196',\n",
       "       '231.648', '83.058', '121.666', '56.642', '51.562', '113.538',\n",
       "       '75.946', '102.362', '54.864', '78.994', '75.692', '94.742',\n",
       "       '47.244', '74.422', '152.4', '71.374', '79.248', '130.048',\n",
       "       '97.536', '99.314', '238.76', '102.87', '82.296', '94.234',\n",
       "       '125.73', '59.436', '112.014', '182.372', '127', '88.392',\n",
       "       '211.328', '82.55', '107.696', '73.406', '124.46', '163.83',\n",
       "       '107.95', '62.992', '118.618', '136.652', '55.626', '101.092',\n",
       "       '90.424', '57.404', '98.552', '90.678', '95.504', '159.512',\n",
       "       '103.378', '139.446', '234.95', '133.35', '100.33', '63.246',\n",
       "       '73.152', '81.534', '157.48', '64.008', '77.47', '77.216', '59.69',\n",
       "       '71.12', '124.206', '59.944', '104.394', '253.238', '86.614',\n",
       "       '49.276', '77.724', '123.698', '106.68', '97.282', '45.466',\n",
       "       '126.492', '53.594', '123.952', '65.278', '92.71', '79.756',\n",
       "       '166.624', '74.93', '95.25', '61.722', '148.59', '248.92',\n",
       "       '100.584', '147.828', '257.048', '307.34', '184.15', '87.376',\n",
       "       '134.874', '206.756', '110.744', '79.502', '67.564', '81.026',\n",
       "       '89.408', '164.338', '101.854', '90.17', '134.62', '58.928',\n",
       "       '83.82', '121.92', '69.088', '91.694', '60.452', '105.41',\n",
       "       '143.002', '137.922', '87.884', '88.9', '112.776', '78.486',\n",
       "       '72.136', '194.564', '112.522', '134.112', '128.778', '83.312',\n",
       "       '96.774', '168.656', '78.74', '117.348', '80.772', '125.222',\n",
       "       '182.626', '132.588', '209.804', '116.078', '89.154', '129.54',\n",
       "       '96.266', '86.36', '117.602', '83.566', '92.964', '109.982',\n",
       "       '92.202', '149.352', '66.802', '122.174', '233.172', '200.406',\n",
       "       '124.968', '89.916', '139.954', '184.404', '91.44', '89.662',\n",
       "       '100.838', '101.6', '119.634', '98.298', '94.996', '132.842',\n",
       "       '84.328', '130.556', '99.822', '109.728', '91.186', '96.52',\n",
       "       '106.172', '72.39', '104.648', '238.506', '139.192', '132.334',\n",
       "       '113.03', '175.006', '124.714', '150.114', '125.476', '119.888',\n",
       "       '133.858', '167.386', '114.554', '115.316', '84.582', '185.166',\n",
       "       '104.902', '111.252', '164.846', '118.872', '167.64', '163.322',\n",
       "       '111.76', '104.14', '194.31', '140.208', '110.236', '153.162',\n",
       "       '165.1', '242.316', '154.686', '105.918', '133.096', '161.036'],\n",
       "      dtype=object)"
      ]
     },
     "execution_count": 32,
     "metadata": {},
     "output_type": "execute_result"
    }
   ],
   "source": [
    "df[\"Precip\"].unique()"
   ]
  },
  {
   "cell_type": "markdown",
   "id": "a2c22bae",
   "metadata": {},
   "source": [
    "**PoorWeather** and **TSHDSBRSGF** are having exactly the same information. We should remove one of them "
   ]
  },
  {
   "cell_type": "code",
   "execution_count": null,
   "id": "dcdaa09d",
   "metadata": {},
   "outputs": [
    {
     "data": {
      "text/plain": [
       "True"
      ]
     },
     "execution_count": 26,
     "metadata": {},
     "output_type": "execute_result"
    }
   ],
   "source": [
    "## showing these two columns have same infomation\n",
    "df[\"PoorWeather\"].equals(df[\"TSHDSBRSGF\"])"
   ]
  },
  {
   "cell_type": "markdown",
   "id": "0a588b25",
   "metadata": {},
   "source": []
  },
  {
   "cell_type": "markdown",
   "id": "6a3ab152",
   "metadata": {},
   "source": [
    "## 3. Select the feature(s) for the model, and explain the reason"
   ]
  },
  {
   "cell_type": "code",
   "execution_count": 76,
   "id": "5696ae4f",
   "metadata": {},
   "outputs": [],
   "source": [
    "# write your answer here"
   ]
  },
  {
   "cell_type": "markdown",
   "id": "a726bcc8",
   "metadata": {},
   "source": [
    "## 4. Split the dataset (80% for training, 20% for testing)"
   ]
  },
  {
   "cell_type": "code",
   "execution_count": null,
   "id": "d8486b2e",
   "metadata": {},
   "outputs": [],
   "source": []
  },
  {
   "cell_type": "markdown",
   "id": "81d5a4da",
   "metadata": {},
   "source": [
    "## 5. Choose the algorithm, train and test the model"
   ]
  },
  {
   "cell_type": "code",
   "execution_count": null,
   "id": "04b47504",
   "metadata": {},
   "outputs": [],
   "source": []
  },
  {
   "cell_type": "markdown",
   "id": "f872ee29",
   "metadata": {},
   "source": [
    "## 6. Evaluate and Visualize model Performance"
   ]
  },
  {
   "cell_type": "code",
   "execution_count": null,
   "id": "5533d7f7",
   "metadata": {},
   "outputs": [],
   "source": []
  },
  {
   "cell_type": "markdown",
   "id": "33c3436b",
   "metadata": {},
   "source": [
    "## 7. What is the R² value and RMSE of the model? How these values indicate the model performance?"
   ]
  },
  {
   "cell_type": "code",
   "execution_count": 77,
   "id": "d38410be",
   "metadata": {},
   "outputs": [],
   "source": [
    "# write your answer here"
   ]
  },
  {
   "cell_type": "markdown",
   "id": "37493b66",
   "metadata": {},
   "source": [
    "## 8. Discuss the model performance based on the plot"
   ]
  },
  {
   "cell_type": "code",
   "execution_count": 78,
   "id": "e1849e70",
   "metadata": {},
   "outputs": [],
   "source": [
    "# write your answer here"
   ]
  }
 ],
 "metadata": {
  "kernelspec": {
   "display_name": "Python 3",
   "language": "python",
   "name": "python3"
  },
  "language_info": {
   "codemirror_mode": {
    "name": "ipython",
    "version": 3
   },
   "file_extension": ".py",
   "mimetype": "text/x-python",
   "name": "python",
   "nbconvert_exporter": "python",
   "pygments_lexer": "ipython3",
   "version": "3.12.2"
  }
 },
 "nbformat": 4,
 "nbformat_minor": 5
}
